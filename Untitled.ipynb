{
 "cells": [
  {
   "cell_type": "code",
   "execution_count": 1,
   "metadata": {},
   "outputs": [],
   "source": [
    "import sqlite3"
   ]
  },
  {
   "cell_type": "code",
   "execution_count": 2,
   "metadata": {},
   "outputs": [],
   "source": [
    "Senha_Principal = 'M270418A'"
   ]
  },
  {
   "cell_type": "code",
   "execution_count": 3,
   "metadata": {},
   "outputs": [
    {
     "name": "stdout",
     "output_type": "stream",
     "text": [
      "Qualé o código, véiM270418A\n"
     ]
    }
   ],
   "source": [
    "Senha = input(\"Qualé o código, véi\")\n",
    "if Senha != Senha_Principal:\n",
    "    print(\"Qualé mané, quem tu é\")\n",
    "    exit()"
   ]
  },
  {
   "cell_type": "code",
   "execution_count": 4,
   "metadata": {},
   "outputs": [],
   "source": [
    "conn = sqlite3.connect('senhas.db')"
   ]
  },
  {
   "cell_type": "code",
   "execution_count": 5,
   "metadata": {},
   "outputs": [],
   "source": [
    "cursor = conn.cursor()"
   ]
  },
  {
   "cell_type": "code",
   "execution_count": 6,
   "metadata": {},
   "outputs": [
    {
     "data": {
      "text/plain": [
       "<sqlite3.Cursor at 0x285c982b5e0>"
      ]
     },
     "execution_count": 6,
     "metadata": {},
     "output_type": "execute_result"
    }
   ],
   "source": [
    "cursor.execute('''\n",
    "CREATE TABLE IF NOT EXISTS usuarios (\n",
    "    servico TEXT NOT NULL,\n",
    "    nome TEXT NOT NULL,\n",
    "    senha TEXT NOT NULL\n",
    ");\n",
    "''')"
   ]
  },
  {
   "cell_type": "code",
   "execution_count": 7,
   "metadata": {},
   "outputs": [],
   "source": [
    "def menu():\n",
    "    print('*****************')\n",
    "    print('* i : inserir nova senha')\n",
    "    print('* l : listar serviços salvos')\n",
    "    print('* r : recuperar uma senha')\n",
    "    print('* s : sair')\n",
    "    print('*****************')"
   ]
  },
  {
   "cell_type": "code",
   "execution_count": 8,
   "metadata": {},
   "outputs": [],
   "source": [
    "def pegar_senha(servico):\n",
    "    cursor.execute(f'''\n",
    "        SELECT nome, senha FROM usuarios\n",
    "        WHERE servico = '{servico}'\n",
    "    ''')\n",
    "    \n",
    "    if cursor.rowcount == 0:\n",
    "        print(\"serviço não cadastrado (use 'l' para verificar os serviços).\")\n",
    "    else:\n",
    "        for usuario in cursor.fetchall():\n",
    "            print(usuario)"
   ]
  },
  {
   "cell_type": "code",
   "execution_count": 9,
   "metadata": {},
   "outputs": [],
   "source": [
    "def inserir_senha(servico, nome, senha):\n",
    "    cursor.execute(f'''\n",
    "        INSERT INTO usuarios (servico, nome, senha)\n",
    "        VALUES ('{servico}', '{nome}', '{senha}')\n",
    "    ''')\n",
    "    conn.commit()"
   ]
  },
  {
   "cell_type": "code",
   "execution_count": 10,
   "metadata": {},
   "outputs": [],
   "source": [
    "def mostrar_servicos():\n",
    "    cursor.execute(f'''\n",
    "        SELECT servico FROM usuarios;\n",
    "    ''')\n",
    "    for servico in cursor.fetchall():\n",
    "        print(servico)"
   ]
  },
  {
   "cell_type": "code",
   "execution_count": 13,
   "metadata": {},
   "outputs": [
    {
     "name": "stdout",
     "output_type": "stream",
     "text": [
      "*****************\n",
      "* i : inserir nova senha\n",
      "* l : listar serviços salvos\n",
      "* r : recuperar uma senha\n",
      "* s : sair\n",
      "*****************\n",
      "O que deseja fazer? s\n"
     ]
    }
   ],
   "source": [
    "while True:\n",
    "    \n",
    "    menu()\n",
    "    op = input(\"O que deseja fazer? \")\n",
    "    if op not in ['l','i','r','s']:\n",
    "        print(\"opção inválida!\")\n",
    "        continue\n",
    "        \n",
    "    if op == 's':\n",
    "        break   \n",
    "        \n",
    "    if op == 'i':\n",
    "        servico= input('Qual o nome do serviço? ')\n",
    "        nome = input('Qual o nome do usuário? ')\n",
    "        senha = input('Qual a senha? ')\n",
    "        inserir_senha(servico, nome, senha)\n",
    "        \n",
    "    if op == 'l':\n",
    "        mostrar_servicos()\n",
    "        \n",
    "    if op == 'r':\n",
    "        servico = input('Qual o serviço para o qual quer a senha? ')\n",
    "        pegar_senha(servico)"
   ]
  },
  {
   "cell_type": "code",
   "execution_count": 14,
   "metadata": {},
   "outputs": [],
   "source": [
    "conn.close()"
   ]
  },
  {
   "cell_type": "code",
   "execution_count": null,
   "metadata": {},
   "outputs": [],
   "source": []
  }
 ],
 "metadata": {
  "kernelspec": {
   "display_name": "Python 3",
   "language": "python",
   "name": "python3"
  },
  "language_info": {
   "codemirror_mode": {
    "name": "ipython",
    "version": 3
   },
   "file_extension": ".py",
   "mimetype": "text/x-python",
   "name": "python",
   "nbconvert_exporter": "python",
   "pygments_lexer": "ipython3",
   "version": "3.7.6"
  }
 },
 "nbformat": 4,
 "nbformat_minor": 4
}
